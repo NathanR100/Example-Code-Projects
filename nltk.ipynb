{
 "cells": [
  {
   "cell_type": "code",
   "execution_count": 1,
   "id": "37ac75f7",
   "metadata": {},
   "outputs": [
    {
     "data": {
      "text/html": [
       "Current session configs: <tt>{'executorMemory': '2G', 'driverMemory': '1G', 'executorCores': 1, 'numExecutors': 3, 'conf': {'spark.dynamicAllocation.enabled': 'false', 'spark.sql.parquet.enableVectorizedReader': 'false', 'spark.python.use.daemon': 'false', 'spark.pyspark.python': 'python3', 'spark.pyspark.virtualenv.enabled': 'true', 'spark.pyspark.virtualenv.type': 'native', 'spark.pyspark.virtualenv.bin.path': '/usr/bin/virtualenv'}, 'proxyUser': 'zhiyiwang', 'kind': 'pyspark'}</tt><br>"
      ],
      "text/plain": [
       "<IPython.core.display.HTML object>"
      ]
     },
     "metadata": {},
     "output_type": "display_data"
    },
    {
     "data": {
      "text/html": [
       "<table>\n",
       "<tr><th>ID</th><th>YARN Application ID</th><th>Kind</th><th>State</th><th>Spark UI</th><th>Driver log</th><th>User</th><th>Current session?</th></tr><tr><td>91</td><td>application_1713221646413_0092</td><td>pyspark</td><td>idle</td><td><a target=\"_blank\" href=\"http://ip-10-0-9-206.us-west-2.compute.internal:20888/proxy/application_1713221646413_0092/\">Link</a></td><td><a target=\"_blank\" href=\"http://ip-10-0-1-131.us-west-2.compute.internal:8042/node/containerlogs/container_1713221646413_0092_01_000001/livy\">Link</a></td><td>None</td><td></td></tr><tr><td>99</td><td>application_1713221646413_0100</td><td>pyspark</td><td>idle</td><td><a target=\"_blank\" href=\"http://ip-10-0-9-206.us-west-2.compute.internal:20888/proxy/application_1713221646413_0100/\">Link</a></td><td><a target=\"_blank\" href=\"http://ip-10-0-7-220.us-west-2.compute.internal:8042/node/containerlogs/container_1713221646413_0100_01_000001/livy\">Link</a></td><td>None</td><td></td></tr><tr><td>103</td><td>application_1713221646413_0104</td><td>pyspark</td><td>idle</td><td><a target=\"_blank\" href=\"http://ip-10-0-9-206.us-west-2.compute.internal:20888/proxy/application_1713221646413_0104/\">Link</a></td><td><a target=\"_blank\" href=\"http://ip-10-0-0-221.us-west-2.compute.internal:8042/node/containerlogs/container_1713221646413_0104_01_000001/livy\">Link</a></td><td>None</td><td></td></tr><tr><td>108</td><td>application_1713221646413_0109</td><td>pyspark</td><td>shutting_down</td><td><a target=\"_blank\" href=\"http://ip-10-0-9-206.us-west-2.compute.internal:20888/proxy/application_1713221646413_0109/\">Link</a></td><td><a target=\"_blank\" href=\"http://ip-10-0-12-135.us-west-2.compute.internal:8042/node/containerlogs/container_1713221646413_0109_01_000002/livy\">Link</a></td><td>None</td><td></td></tr></table>"
      ],
      "text/plain": [
       "<IPython.core.display.HTML object>"
      ]
     },
     "metadata": {},
     "output_type": "display_data"
    }
   ],
   "source": [
    "%%configure -f\n",
    "\n",
    "{\"executorMemory\": \"2G\",\"driverMemory\":\"1G\",\"executorCores\": 1,\"numExecutors\": 3,\n",
    "\n",
    "\"conf\": {\"spark.dynamicAllocation.enabled\": \"false\",\n",
    "\n",
    "          \"spark.sql.parquet.enableVectorizedReader\": \"false\",\n",
    "\n",
    "          \"spark.python.use.daemon\": \"false\",\n",
    "\n",
    "          \"spark.pyspark.python\": \"python3\",\n",
    "\n",
    "          \"spark.pyspark.virtualenv.enabled\": \"true\",\n",
    "\n",
    "          \"spark.pyspark.virtualenv.type\": \"native\",\n",
    "\n",
    "          \"spark.pyspark.virtualenv.bin.path\": \"/usr/bin/virtualenv\"}}"
   ]
  },
  {
   "cell_type": "code",
   "execution_count": 2,
   "id": "955cd9ba",
   "metadata": {},
   "outputs": [
    {
     "name": "stdout",
     "output_type": "stream",
     "text": [
      "Starting Spark application\n"
     ]
    },
    {
     "data": {
      "text/html": [
       "<table>\n",
       "<tr><th>ID</th><th>YARN Application ID</th><th>Kind</th><th>State</th><th>Spark UI</th><th>Driver log</th><th>User</th><th>Current session?</th></tr><tr><td>109</td><td>application_1713221646413_0110</td><td>pyspark</td><td>idle</td><td><a target=\"_blank\" href=\"http://ip-10-0-9-206.us-west-2.compute.internal:20888/proxy/application_1713221646413_0110/\">Link</a></td><td><a target=\"_blank\" href=\"http://ip-10-0-2-32.us-west-2.compute.internal:8042/node/containerlogs/container_1713221646413_0110_01_000001/livy\">Link</a></td><td>None</td><td>✔</td></tr></table>"
      ],
      "text/plain": [
       "<IPython.core.display.HTML object>"
      ]
     },
     "metadata": {},
     "output_type": "display_data"
    },
    {
     "data": {
      "application/vnd.jupyter.widget-view+json": {
       "model_id": "",
       "version_major": 2,
       "version_minor": 0
      },
      "text/plain": [
       "FloatProgress(value=0.0, bar_style='info', description='Progress:', layout=Layout(height='25px', width='50%'),…"
      ]
     },
     "metadata": {},
     "output_type": "display_data"
    },
    {
     "name": "stdout",
     "output_type": "stream",
     "text": [
      "SparkSession available as 'spark'.\n"
     ]
    },
    {
     "data": {
      "application/vnd.jupyter.widget-view+json": {
       "model_id": "",
       "version_major": 2,
       "version_minor": 0
      },
      "text/plain": [
       "FloatProgress(value=0.0, bar_style='info', description='Progress:', layout=Layout(height='25px', width='50%'),…"
      ]
     },
     "metadata": {},
     "output_type": "display_data"
    },
    {
     "name": "stdout",
     "output_type": "stream",
     "text": [
      "+----------+------------+------+-----------+------+--------------------+-------------+--------------------+--------------------+-----------------+\n",
      "|      asin|helpful_vote|images|parent_asin|rating|                text|    timestamp|               title|             user_id|verified_purchase|\n",
      "+----------+------------+------+-----------+------+--------------------+-------------+--------------------+--------------------+-----------------+\n",
      "|B004RQ2IRG|           0|    []| B004RQ2IRG|   5.0|If i had a dollar...|1618972613292|                Nice|AFUOYIZBU3MTBOLYK...|             true|\n",
      "|B0026UZEI0|           0|    []| B0026UZEI0|   5.0|awesome sound - c...|1308167525000|           Excellent|AHGAOIZVODNHYMNCB...|             true|\n",
      "|B0055JSYHC|           0|    []| B0055JSYHC|   5.0|This is a great c...|1615838793006|       Great service|AFGEM6BXCYHUILEOA...|             true|\n",
      "|B000F9SMUQ|           0|    []| B000F9SMUQ|   1.0|These are not rea...|1405219741000|             No good|AH3OG6QD6EDJGZRVC...|             true|\n",
      "|B0049D1WVK|           0|    []| B0049D1WVK|   3.0|I first heard thi...|1309029595000|Cool concept, so-...|AFW2PDT3AMT4X3PYQ...|            false|\n",
      "|B00003CXKT|           1|    []| B00003CXKT|   4.0|I just saw \"Star ...|1022191122000|\"L'attaque des cl...|AFW2PDT3AMT4X3PYQ...|            false|\n",
      "|B083QN4Y6H|           0|    []| B083QN4Y6H|   5.0|This is without a...|1592615999887|Ronnie Dunn like ...|AGYEAZK4OEYF2MSST...|             true|\n",
      "|B08L7CJ6NM|           0|    []| B08L7CJ6NM|   5.0|        Sounds great|1641330592178|A true classic se...|AHB5CGLYN3Y6NIPHN...|             true|\n",
      "|B092C24W4G|           2|    []| B092C24W4G|   5.0|This disk is fant...|1641224888411|A great collectio...|AHB5CGLYN3Y6NIPHN...|             true|\n",
      "|B01M32UHXG|           0|    []| B01M32UHXG|   5.0|This is a fantast...|1566575806068|Excellent musical...|AHB5CGLYN3Y6NIPHN...|            false|\n",
      "|B002Q2KG1I|           0|    []| B002Q2KG1I|   5.0|There are two sep...|1493417280000|confusing two sep...|AHB5CGLYN3Y6NIPHN...|            false|\n",
      "|B003NXEPY8|           0|    []| B003NXEPY8|   5.0|It exceeds my exp...|1461286805000|Great co to buy f...|AHB5CGLYN3Y6NIPHN...|             true|\n",
      "|B0012N3PMY|           0|    []| B0012N3PMY|   5.0|astoundingly beau...|1563218775810|         Astounding!|AFUB7CHTXRPD447QV...|             true|\n",
      "|B006X08FR6|           0|    []| B006X08FR6|   5.0|Fabulous Cd well ...|1446817089000|          Five Stars|AFGWR7GZLOWSTFN2Q...|             true|\n",
      "|B000K4Y80O|           1|    []| B000K4Y80O|   5.0|Very Good CD All ...|1389267697000|AM Gold the late ...|AFGWR7GZLOWSTFN2Q...|             true|\n",
      "|B0009P1NXO|           1|    []| B0009P1NXO|   5.0|Great cd and what...|1377513877000|when a man loves ...|AFGWR7GZLOWSTFN2Q...|             true|\n",
      "|B01KAVRPSS|           0|    []| B01KAVRPSS|   4.0|With movies takin...|1672949803634|Elvis' 1963 studi...|AE7BV6IMNPZ3F266H...|             true|\n",
      "|B09TG5NB37|           0|    []| B09TG5NB37|   4.0|Import version, b...|1667694165621|Clapper's look ba...|AE7BV6IMNPZ3F266H...|            false|\n",
      "|B0872JR211|           0|    []| B0872JR211|   4.0|Daylight Again be...|1659383314292|CSN's last best s...|AE7BV6IMNPZ3F266H...|            false|\n",
      "|B003B3V14W|           0|    []| B003B3V14W|   4.0|What would the Ba...|1658334763251|No Robbie, but im...|AE7BV6IMNPZ3F266H...|             true|\n",
      "+----------+------------+------+-----------+------+--------------------+-------------+--------------------+--------------------+-----------------+\n",
      "only showing top 20 rows\n",
      "\n",
      "Number of Rows: 130434\n",
      "Number of Columns: 10"
     ]
    }
   ],
   "source": [
    "DM_df = spark.read.format(\"parquet\").load(\"s3://msbx5420-spr24/teams/Group6/Digital_Music.parquet\")\n",
    "DM_df.show()\n",
    "\n",
    "num_rows = DM_df.count()\n",
    "num_columns = len(DM_df.columns)\n",
    "\n",
    "print(\"Number of Rows:\", num_rows)\n",
    "print(\"Number of Columns:\", num_columns)"
   ]
  },
  {
   "cell_type": "code",
   "execution_count": 3,
   "id": "e2e688dc",
   "metadata": {},
   "outputs": [
    {
     "data": {
      "application/vnd.jupyter.widget-view+json": {
       "model_id": "",
       "version_major": 2,
       "version_minor": 0
      },
      "text/plain": [
       "FloatProgress(value=0.0, bar_style='info', description='Progress:', layout=Layout(height='25px', width='50%'),…"
      ]
     },
     "metadata": {},
     "output_type": "display_data"
    },
    {
     "name": "stdout",
     "output_type": "stream",
     "text": [
      "Requirement already satisfied: nltk in /usr/local/lib/python3.7/site-packages (3.8.1)\n",
      "Requirement already satisfied: click in /usr/local/lib64/python3.7/site-packages (from nltk) (8.1.7)\n",
      "Requirement already satisfied: joblib in /usr/local/lib64/python3.7/site-packages (from nltk) (1.3.2)\n",
      "Requirement already satisfied: regex>=2021.8.3 in /usr/local/lib64/python3.7/site-packages (from nltk) (2021.11.10)\n",
      "Requirement already satisfied: tqdm in /usr/local/lib64/python3.7/site-packages (from nltk) (4.66.1)\n",
      "Collecting importlib-metadata; python_version < \"3.8\"\n",
      "  Downloading importlib_metadata-6.7.0-py3-none-any.whl (22 kB)\n",
      "Collecting typing-extensions>=3.6.4; python_version < \"3.8\"\n",
      "  Downloading typing_extensions-4.7.1-py3-none-any.whl (33 kB)\n",
      "Collecting zipp>=0.5\n",
      "  Downloading zipp-3.15.0-py3-none-any.whl (6.8 kB)\n",
      "Installing collected packages: typing-extensions, zipp, importlib-metadata\n",
      "Successfully installed importlib-metadata-6.7.0 typing-extensions-4.7.1 zipp-3.15.0\n",
      "\n",
      "WARNING: The directory '/home/.cache/pip' or its parent directory is not owned or is not writable by the current user. The cache has been disabled. Check the permissions and owner of that directory. If executing pip with sudo, you may want sudo's -H flag."
     ]
    }
   ],
   "source": [
    "sc.install_pypi_package('nltk')"
   ]
  },
  {
   "cell_type": "code",
   "execution_count": 4,
   "id": "e6cf4e1d",
   "metadata": {},
   "outputs": [
    {
     "data": {
      "application/vnd.jupyter.widget-view+json": {
       "model_id": "",
       "version_major": 2,
       "version_minor": 0
      },
      "text/plain": [
       "FloatProgress(value=0.0, bar_style='info', description='Progress:', layout=Layout(height='25px', width='50%'),…"
      ]
     },
     "metadata": {},
     "output_type": "display_data"
    }
   ],
   "source": [
    "import nltk\n",
    "from nltk.sentiment.vader import SentimentIntensityAnalyzer\n",
    "from pyspark.sql.functions import udf\n",
    "from pyspark.sql.types import DoubleType"
   ]
  },
  {
   "cell_type": "code",
   "execution_count": 6,
   "id": "d527401f",
   "metadata": {},
   "outputs": [
    {
     "data": {
      "application/vnd.jupyter.widget-view+json": {
       "model_id": "",
       "version_major": 2,
       "version_minor": 0
      },
      "text/plain": [
       "FloatProgress(value=0.0, bar_style='info', description='Progress:', layout=Layout(height='25px', width='50%'),…"
      ]
     },
     "metadata": {},
     "output_type": "display_data"
    },
    {
     "name": "stdout",
     "output_type": "stream",
     "text": [
      "+----------+------------+------+-----------+------+--------------------+-------------+--------------------+--------------------+-----------------+---------------+\n",
      "|      asin|helpful_vote|images|parent_asin|rating|                text|    timestamp|               title|             user_id|verified_purchase|sentiment_score|\n",
      "+----------+------------+------+-----------+------+--------------------+-------------+--------------------+--------------------+-----------------+---------------+\n",
      "|B004RQ2IRG|           0|    []| B004RQ2IRG|   5.0|If i had a dollar...|1618972613292|                Nice|AFUOYIZBU3MTBOLYK...|             true|         0.9413|\n",
      "|B0026UZEI0|           0|    []| B0026UZEI0|   5.0|awesome sound - c...|1308167525000|           Excellent|AHGAOIZVODNHYMNCB...|             true|         0.5848|\n",
      "|B0055JSYHC|           0|    []| B0055JSYHC|   5.0|This is a great c...|1615838793006|       Great service|AFGEM6BXCYHUILEOA...|             true|         0.8779|\n",
      "|B000F9SMUQ|           0|    []| B000F9SMUQ|   1.0|These are not rea...|1405219741000|             No good|AH3OG6QD6EDJGZRVC...|             true|          -0.25|\n",
      "|B0049D1WVK|           0|    []| B0049D1WVK|   3.0|I first heard thi...|1309029595000|Cool concept, so-...|AFW2PDT3AMT4X3PYQ...|            false|         0.9147|\n",
      "|B00003CXKT|           1|    []| B00003CXKT|   4.0|I just saw \"Star ...|1022191122000|\"L'attaque des cl...|AFW2PDT3AMT4X3PYQ...|            false|        -0.9413|\n",
      "|B083QN4Y6H|           0|    []| B083QN4Y6H|   5.0|This is without a...|1592615999887|Ronnie Dunn like ...|AGYEAZK4OEYF2MSST...|             true|         0.9122|\n",
      "|B08L7CJ6NM|           0|    []| B08L7CJ6NM|   5.0|        Sounds great|1641330592178|A true classic se...|AHB5CGLYN3Y6NIPHN...|             true|         0.6249|\n",
      "|B092C24W4G|           2|    []| B092C24W4G|   5.0|This disk is fant...|1641224888411|A great collectio...|AHB5CGLYN3Y6NIPHN...|             true|        -0.0307|\n",
      "|B01M32UHXG|           0|    []| B01M32UHXG|   5.0|This is a fantast...|1566575806068|Excellent musical...|AHB5CGLYN3Y6NIPHN...|            false|         0.8519|\n",
      "|B002Q2KG1I|           0|    []| B002Q2KG1I|   5.0|There are two sep...|1493417280000|confusing two sep...|AHB5CGLYN3Y6NIPHN...|            false|         0.6808|\n",
      "|B003NXEPY8|           0|    []| B003NXEPY8|   5.0|It exceeds my exp...|1461286805000|Great co to buy f...|AHB5CGLYN3Y6NIPHN...|             true|         0.7783|\n",
      "|B0012N3PMY|           0|    []| B0012N3PMY|   5.0|astoundingly beau...|1563218775810|         Astounding!|AFUB7CHTXRPD447QV...|             true|         0.7568|\n",
      "|B006X08FR6|           0|    []| B006X08FR6|   5.0|Fabulous Cd well ...|1446817089000|          Five Stars|AFGWR7GZLOWSTFN2Q...|             true|         0.7506|\n",
      "|B000K4Y80O|           1|    []| B000K4Y80O|   5.0|Very Good CD All ...|1389267697000|AM Gold the late ...|AFGWR7GZLOWSTFN2Q...|             true|          0.659|\n",
      "|B0009P1NXO|           1|    []| B0009P1NXO|   5.0|Great cd and what...|1377513877000|when a man loves ...|AFGWR7GZLOWSTFN2Q...|             true|         0.9286|\n",
      "|B01KAVRPSS|           0|    []| B01KAVRPSS|   4.0|With movies takin...|1672949803634|Elvis' 1963 studi...|AE7BV6IMNPZ3F266H...|             true|         0.9864|\n",
      "|B09TG5NB37|           0|    []| B09TG5NB37|   4.0|Import version, b...|1667694165621|Clapper's look ba...|AE7BV6IMNPZ3F266H...|            false|         0.9136|\n",
      "|B0872JR211|           0|    []| B0872JR211|   4.0|Daylight Again be...|1659383314292|CSN's last best s...|AE7BV6IMNPZ3F266H...|            false|         0.9661|\n",
      "|B003B3V14W|           0|    []| B003B3V14W|   4.0|What would the Ba...|1658334763251|No Robbie, but im...|AE7BV6IMNPZ3F266H...|             true|         0.9722|\n",
      "+----------+------------+------+-----------+------+--------------------+-------------+--------------------+--------------------+-----------------+---------------+\n",
      "only showing top 20 rows"
     ]
    }
   ],
   "source": [
    "import os\n",
    "\n",
    "def analyze_sentiment(text):\n",
    "    if not os.path.isdir('./nltk_data/sentiment/vader_lexicon.zip'):\n",
    "        nltk.download('vader_lexicon', download_dir='./nltk_data')\n",
    "    nltk.data.path.append('./nltk_data')\n",
    "    sid = SentimentIntensityAnalyzer()\n",
    "    scores = sid.polarity_scores(text)\n",
    "    return scores['compound']\n",
    "\n",
    "analyze_sentiment_udf = udf(analyze_sentiment, DoubleType())\n",
    "df_with_sentiment = DM_df.withColumn('sentiment_score', analyze_sentiment_udf(DM_df['text']))\n",
    "df_with_sentiment.show()"
   ]
  },
  {
   "cell_type": "code",
   "execution_count": null,
   "id": "f7f3fb2d",
   "metadata": {},
   "outputs": [],
   "source": []
  }
 ],
 "metadata": {
  "kernelspec": {
   "display_name": "PySpark",
   "language": "python",
   "name": "pysparkkernel"
  },
  "language_info": {
   "codemirror_mode": {
    "name": "python",
    "version": 3
   },
   "file_extension": ".py",
   "mimetype": "text/x-python",
   "name": "pyspark",
   "pygments_lexer": "python3"
  }
 },
 "nbformat": 4,
 "nbformat_minor": 5
}
